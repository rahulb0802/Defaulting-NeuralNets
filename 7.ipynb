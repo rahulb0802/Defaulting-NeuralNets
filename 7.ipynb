{
 "cells": [
  {
   "cell_type": "markdown",
   "id": "733de444-b6c4-4f6c-9cc3-4fa271cfbfda",
   "metadata": {},
   "source": [
    "# Fitting neural network to `Default` dataset (customers defaulting on debt)"
   ]
  },
  {
   "cell_type": "code",
   "execution_count": 52,
   "id": "20aef5a4-0499-4e94-8dc9-838648a5b63e",
   "metadata": {},
   "outputs": [
    {
     "name": "stderr",
     "output_type": "stream",
     "text": [
      "Seed set to 0\n"
     ]
    }
   ],
   "source": [
    "import numpy as np, pandas as pd\n",
    "from matplotlib.pyplot import subplots\n",
    "from sklearn.linear_model import (LinearRegression, LogisticRegression, Lasso)\n",
    "from sklearn.preprocessing import StandardScaler\n",
    "from sklearn.model_selection import KFold\n",
    "from sklearn.pipeline import Pipeline\n",
    "from ISLP import load_data, confusion_table\n",
    "from ISLP.models import ModelSpec as MS\n",
    "from sklearn.model_selection import (train_test_split, GridSearchCV)\n",
    "import torch\n",
    "from torch import nn\n",
    "from torch.optim import RMSprop\n",
    "from torch.utils.data import TensorDataset\n",
    "from torchmetrics import (MeanAbsoluteError, R2Score)\n",
    "from torchinfo import summary\n",
    "from torchvision.io import read_image\n",
    "from pytorch_lightning import Trainer\n",
    "from pytorch_lightning.loggers import CSVLogger\n",
    "from pytorch_lightning import seed_everything\n",
    "seed_everything(0, workers=True)\n",
    "torch.use_deterministic_algorithms(True, warn_only=True)\n",
    "from torchvision.datasets import MNIST, CIFAR100\n",
    "from torchvision.models import (resnet50, ResNet50_Weights)\n",
    "from torchvision.transforms import (Resize, Normalize, CenterCrop, ToTensor)\n",
    "from ISLP.torch import (SimpleDataModule, SimpleModule, ErrorTracker, rec_num_workers)\n",
    "from ISLP.torch.imdb import (load_lookup, load_tensor, load_sparse, load_sequential)\n",
    "from sklearn.preprocessing import LabelEncoder"
   ]
  },
  {
   "cell_type": "markdown",
   "id": "390a0b88-8b41-4568-bd9c-69e003911bff",
   "metadata": {},
   "source": [
    "## Setting up"
   ]
  },
  {
   "cell_type": "markdown",
   "id": "a0e27476-133f-4f47-8bc0-8f5722b28c64",
   "metadata": {},
   "source": [
    "Loading data"
   ]
  },
  {
   "cell_type": "code",
   "execution_count": 24,
   "id": "45f5f209-70f4-4a35-898a-27130cc7b732",
   "metadata": {},
   "outputs": [],
   "source": [
    "Default = load_data('Default')\n",
    "n = Default.shape[0]"
   ]
  },
  {
   "cell_type": "markdown",
   "id": "40fa5952-f0d4-4be3-962c-9b7ec30fa026",
   "metadata": {},
   "source": [
    "Setting up model matrix, MS does this"
   ]
  },
  {
   "cell_type": "code",
   "execution_count": 25,
   "id": "95bd19ba-42a4-4948-bc4d-866a34c02cbb",
   "metadata": {},
   "outputs": [],
   "source": [
    "model = MS(Default.columns.drop('default'), intercept=False)\n",
    "X = model.fit_transform(Default).to_numpy()\n",
    "Y = Default['default'].to_numpy()"
   ]
  },
  {
   "cell_type": "markdown",
   "id": "12ef5cc7-e55a-4690-a444-99c062797dbb",
   "metadata": {},
   "source": [
    "Splitting data into training and test"
   ]
  },
  {
   "cell_type": "code",
   "execution_count": 26,
   "id": "ef066d21-6eea-4a22-b833-1917558a6fdf",
   "metadata": {},
   "outputs": [],
   "source": [
    "(X_train, X_test, Y_train, Y_test) = train_test_split(X, Y, test_size=0.25, random_state=0)"
   ]
  },
  {
   "cell_type": "code",
   "execution_count": 27,
   "id": "54122818-871f-4187-a036-01129891e411",
   "metadata": {},
   "outputs": [],
   "source": [
    "label_encoder = LabelEncoder()\n",
    "Y_train_encoded = label_encoder.fit_transform(Y_train)"
   ]
  },
  {
   "cell_type": "markdown",
   "id": "10c42242-c2cb-45a6-a49a-169b0a64468b",
   "metadata": {},
   "source": [
    "## Setting up Neural Network"
   ]
  },
  {
   "cell_type": "markdown",
   "id": "aca3da3b-4341-43fb-a857-166fdd9ffbaa",
   "metadata": {},
   "source": [
    "Making a class to structure the model"
   ]
  },
  {
   "cell_type": "code",
   "execution_count": 28,
   "id": "7c57076f-284f-4735-8589-52b8b8ab8d0b",
   "metadata": {},
   "outputs": [],
   "source": [
    "class DefaultModel(nn.Module):\n",
    "    def __init__(self, input_size):\n",
    "        super(DefaultModel, self).__init__()\n",
    "        self.flatten = nn.Flatten()\n",
    "        self.sequential = nn.Sequential(\n",
    "            nn.Linear(input_size, 10),\n",
    "            nn.ReLU(),\n",
    "            nn.Dropout(0.4),\n",
    "            nn.Linear(10, 1),\n",
    "            nn.Sigmoid()\n",
    "        )\n",
    "\n",
    "    def forward(self, x):\n",
    "        x = self.flatten(x)\n",
    "        return torch.flatten(self.sequential(x))"
   ]
  },
  {
   "cell_type": "code",
   "execution_count": 29,
   "id": "29dcffa1-7f51-4ddc-90d7-196ee05f69ce",
   "metadata": {},
   "outputs": [],
   "source": [
    "def_model = DefaultModel(X.shape[1])"
   ]
  },
  {
   "cell_type": "code",
   "execution_count": 30,
   "id": "13bd569f-cb1f-46c5-a0ef-4ece74d43e69",
   "metadata": {},
   "outputs": [
    {
     "data": {
      "text/plain": [
       "===================================================================================================================\n",
       "Layer (type:depth-idx)                   Input Shape               Output Shape              Param #\n",
       "===================================================================================================================\n",
       "DefaultModel                             [7500, 3]                 [7500]                    --\n",
       "├─Flatten: 1-1                           [7500, 3]                 [7500, 3]                 --\n",
       "├─Sequential: 1-2                        [7500, 3]                 [7500, 1]                 --\n",
       "│    └─Linear: 2-1                       [7500, 3]                 [7500, 10]                40\n",
       "│    └─ReLU: 2-2                         [7500, 10]                [7500, 10]                --\n",
       "│    └─Dropout: 2-3                      [7500, 10]                [7500, 10]                --\n",
       "│    └─Linear: 2-4                       [7500, 10]                [7500, 1]                 11\n",
       "│    └─Sigmoid: 2-5                      [7500, 1]                 [7500, 1]                 --\n",
       "===================================================================================================================\n",
       "Total params: 51\n",
       "Trainable params: 51\n",
       "Non-trainable params: 0\n",
       "Total mult-adds (Units.MEGABYTES): 0.38\n",
       "===================================================================================================================\n",
       "Input size (MB): 0.09\n",
       "Forward/backward pass size (MB): 0.66\n",
       "Params size (MB): 0.00\n",
       "Estimated Total Size (MB): 0.75\n",
       "==================================================================================================================="
      ]
     },
     "execution_count": 30,
     "metadata": {},
     "output_type": "execute_result"
    }
   ],
   "source": [
    "summary(def_model, input_size=X_train.shape, col_names=['input_size', 'output_size', 'num_params'])"
   ]
  },
  {
   "cell_type": "markdown",
   "id": "4b1d2f67-2eda-41f9-942f-2be79f63330a",
   "metadata": {},
   "source": [
    "Transforming training data into tensors"
   ]
  },
  {
   "cell_type": "code",
   "execution_count": 32,
   "id": "fcd7325b-b54e-4c21-8de4-6db09f9cb63d",
   "metadata": {},
   "outputs": [],
   "source": [
    "X_train_t = torch.tensor(X_train.astype(np.float32))\n",
    "Y_train_t = torch.tensor(Y_train_encoded.astype(np.float32))\n",
    "def_train = TensorDataset(X_train_t, Y_train_t)"
   ]
  },
  {
   "cell_type": "code",
   "execution_count": 33,
   "id": "e6b7f00b-4c82-42f5-917e-fd66a5a03e1f",
   "metadata": {},
   "outputs": [],
   "source": [
    "Y_test_encoded = label_encoder.fit_transform(Y_test)"
   ]
  },
  {
   "cell_type": "code",
   "execution_count": 34,
   "id": "4e7b01e5-3ac5-41ac-974e-ebac9e49ac33",
   "metadata": {},
   "outputs": [],
   "source": [
    "X_test_t = torch.tensor(X_test.astype(np.float32))\n",
    "Y_test_t = torch.tensor(Y_test_encoded.astype(np.float32))\n",
    "def_test = TensorDataset(X_test_t, Y_test_t)"
   ]
  },
  {
   "cell_type": "code",
   "execution_count": 35,
   "id": "c2ccabd8-1c3f-42ec-abc2-97d0cb71f3c9",
   "metadata": {},
   "outputs": [],
   "source": [
    "max_num_workers = rec_num_workers()"
   ]
  },
  {
   "cell_type": "markdown",
   "id": "b4f21a6f-bd5c-44e1-a5fa-b0f42b7749b5",
   "metadata": {},
   "source": [
    "Passing into a simpler data loader"
   ]
  },
  {
   "cell_type": "code",
   "execution_count": 45,
   "id": "10673d26-d29f-4c59-9ac7-5f0998d48282",
   "metadata": {},
   "outputs": [],
   "source": [
    "def_dm = SimpleDataModule(def_train, def_test, batch_size=32, num_workers=min(4, max_num_workers), validation=def_test)"
   ]
  },
  {
   "cell_type": "code",
   "execution_count": 46,
   "id": "9111ffaa-fa28-4ce7-8c83-ba4f1c634adf",
   "metadata": {},
   "outputs": [],
   "source": [
    "def_optimizer = RMSprop(def_model.parameters(), lr=0.001)\n",
    "def_module = SimpleModule.classification(def_model, num_classes=2)\n",
    "def_logger = CSVLogger('logs', name='Default')"
   ]
  },
  {
   "cell_type": "code",
   "execution_count": 47,
   "id": "7b6544c2-a4ce-44c2-a6ad-00b245b4ea73",
   "metadata": {},
   "outputs": [
    {
     "name": "stderr",
     "output_type": "stream",
     "text": [
      "GPU available: False, used: False\n",
      "TPU available: False, using: 0 TPU cores\n",
      "HPU available: False, using: 0 HPUs\n",
      "\n",
      "  | Name  | Type             | Params | Mode \n",
      "---------------------------------------------------\n",
      "0 | model | DefaultModel     | 51     | train\n",
      "1 | loss  | CrossEntropyLoss | 0      | train\n",
      "---------------------------------------------------\n",
      "51        Trainable params\n",
      "0         Non-trainable params\n",
      "51        Total params\n",
      "0.000     Total estimated model params size (MB)\n",
      "9         Modules in train mode\n",
      "0         Modules in eval mode\n"
     ]
    },
    {
     "data": {
      "application/vnd.jupyter.widget-view+json": {
       "model_id": "",
       "version_major": 2,
       "version_minor": 0
      },
      "text/plain": [
       "Sanity Checking: |                                                                               | 0/? [00:00<…"
      ]
     },
     "metadata": {},
     "output_type": "display_data"
    },
    {
     "data": {
      "application/vnd.jupyter.widget-view+json": {
       "model_id": "7b03a2c3c66e499c86991d3f88f23ad4",
       "version_major": 2,
       "version_minor": 0
      },
      "text/plain": [
       "Training: |                                                                                      | 0/? [00:00<…"
      ]
     },
     "metadata": {},
     "output_type": "display_data"
    },
    {
     "data": {
      "application/vnd.jupyter.widget-view+json": {
       "model_id": "",
       "version_major": 2,
       "version_minor": 0
      },
      "text/plain": [
       "Validation: |                                                                                    | 0/? [00:00<…"
      ]
     },
     "metadata": {},
     "output_type": "display_data"
    },
    {
     "data": {
      "application/vnd.jupyter.widget-view+json": {
       "model_id": "",
       "version_major": 2,
       "version_minor": 0
      },
      "text/plain": [
       "Validation: |                                                                                    | 0/? [00:00<…"
      ]
     },
     "metadata": {},
     "output_type": "display_data"
    },
    {
     "data": {
      "application/vnd.jupyter.widget-view+json": {
       "model_id": "",
       "version_major": 2,
       "version_minor": 0
      },
      "text/plain": [
       "Validation: |                                                                                    | 0/? [00:00<…"
      ]
     },
     "metadata": {},
     "output_type": "display_data"
    },
    {
     "data": {
      "application/vnd.jupyter.widget-view+json": {
       "model_id": "",
       "version_major": 2,
       "version_minor": 0
      },
      "text/plain": [
       "Validation: |                                                                                    | 0/? [00:00<…"
      ]
     },
     "metadata": {},
     "output_type": "display_data"
    },
    {
     "data": {
      "application/vnd.jupyter.widget-view+json": {
       "model_id": "",
       "version_major": 2,
       "version_minor": 0
      },
      "text/plain": [
       "Validation: |                                                                                    | 0/? [00:00<…"
      ]
     },
     "metadata": {},
     "output_type": "display_data"
    },
    {
     "data": {
      "application/vnd.jupyter.widget-view+json": {
       "model_id": "",
       "version_major": 2,
       "version_minor": 0
      },
      "text/plain": [
       "Validation: |                                                                                    | 0/? [00:00<…"
      ]
     },
     "metadata": {},
     "output_type": "display_data"
    },
    {
     "data": {
      "application/vnd.jupyter.widget-view+json": {
       "model_id": "",
       "version_major": 2,
       "version_minor": 0
      },
      "text/plain": [
       "Validation: |                                                                                    | 0/? [00:00<…"
      ]
     },
     "metadata": {},
     "output_type": "display_data"
    },
    {
     "data": {
      "application/vnd.jupyter.widget-view+json": {
       "model_id": "",
       "version_major": 2,
       "version_minor": 0
      },
      "text/plain": [
       "Validation: |                                                                                    | 0/? [00:00<…"
      ]
     },
     "metadata": {},
     "output_type": "display_data"
    },
    {
     "data": {
      "application/vnd.jupyter.widget-view+json": {
       "model_id": "",
       "version_major": 2,
       "version_minor": 0
      },
      "text/plain": [
       "Validation: |                                                                                    | 0/? [00:00<…"
      ]
     },
     "metadata": {},
     "output_type": "display_data"
    },
    {
     "data": {
      "application/vnd.jupyter.widget-view+json": {
       "model_id": "",
       "version_major": 2,
       "version_minor": 0
      },
      "text/plain": [
       "Validation: |                                                                                    | 0/? [00:00<…"
      ]
     },
     "metadata": {},
     "output_type": "display_data"
    },
    {
     "data": {
      "application/vnd.jupyter.widget-view+json": {
       "model_id": "",
       "version_major": 2,
       "version_minor": 0
      },
      "text/plain": [
       "Validation: |                                                                                    | 0/? [00:00<…"
      ]
     },
     "metadata": {},
     "output_type": "display_data"
    },
    {
     "data": {
      "application/vnd.jupyter.widget-view+json": {
       "model_id": "",
       "version_major": 2,
       "version_minor": 0
      },
      "text/plain": [
       "Validation: |                                                                                    | 0/? [00:00<…"
      ]
     },
     "metadata": {},
     "output_type": "display_data"
    },
    {
     "data": {
      "application/vnd.jupyter.widget-view+json": {
       "model_id": "",
       "version_major": 2,
       "version_minor": 0
      },
      "text/plain": [
       "Validation: |                                                                                    | 0/? [00:00<…"
      ]
     },
     "metadata": {},
     "output_type": "display_data"
    },
    {
     "data": {
      "application/vnd.jupyter.widget-view+json": {
       "model_id": "",
       "version_major": 2,
       "version_minor": 0
      },
      "text/plain": [
       "Validation: |                                                                                    | 0/? [00:00<…"
      ]
     },
     "metadata": {},
     "output_type": "display_data"
    },
    {
     "data": {
      "application/vnd.jupyter.widget-view+json": {
       "model_id": "",
       "version_major": 2,
       "version_minor": 0
      },
      "text/plain": [
       "Validation: |                                                                                    | 0/? [00:00<…"
      ]
     },
     "metadata": {},
     "output_type": "display_data"
    },
    {
     "data": {
      "application/vnd.jupyter.widget-view+json": {
       "model_id": "",
       "version_major": 2,
       "version_minor": 0
      },
      "text/plain": [
       "Validation: |                                                                                    | 0/? [00:00<…"
      ]
     },
     "metadata": {},
     "output_type": "display_data"
    },
    {
     "data": {
      "application/vnd.jupyter.widget-view+json": {
       "model_id": "",
       "version_major": 2,
       "version_minor": 0
      },
      "text/plain": [
       "Validation: |                                                                                    | 0/? [00:00<…"
      ]
     },
     "metadata": {},
     "output_type": "display_data"
    },
    {
     "data": {
      "application/vnd.jupyter.widget-view+json": {
       "model_id": "",
       "version_major": 2,
       "version_minor": 0
      },
      "text/plain": [
       "Validation: |                                                                                    | 0/? [00:00<…"
      ]
     },
     "metadata": {},
     "output_type": "display_data"
    },
    {
     "data": {
      "application/vnd.jupyter.widget-view+json": {
       "model_id": "",
       "version_major": 2,
       "version_minor": 0
      },
      "text/plain": [
       "Validation: |                                                                                    | 0/? [00:00<…"
      ]
     },
     "metadata": {},
     "output_type": "display_data"
    },
    {
     "data": {
      "application/vnd.jupyter.widget-view+json": {
       "model_id": "",
       "version_major": 2,
       "version_minor": 0
      },
      "text/plain": [
       "Validation: |                                                                                    | 0/? [00:00<…"
      ]
     },
     "metadata": {},
     "output_type": "display_data"
    },
    {
     "data": {
      "application/vnd.jupyter.widget-view+json": {
       "model_id": "",
       "version_major": 2,
       "version_minor": 0
      },
      "text/plain": [
       "Validation: |                                                                                    | 0/? [00:00<…"
      ]
     },
     "metadata": {},
     "output_type": "display_data"
    },
    {
     "data": {
      "application/vnd.jupyter.widget-view+json": {
       "model_id": "",
       "version_major": 2,
       "version_minor": 0
      },
      "text/plain": [
       "Validation: |                                                                                    | 0/? [00:00<…"
      ]
     },
     "metadata": {},
     "output_type": "display_data"
    },
    {
     "data": {
      "application/vnd.jupyter.widget-view+json": {
       "model_id": "",
       "version_major": 2,
       "version_minor": 0
      },
      "text/plain": [
       "Validation: |                                                                                    | 0/? [00:00<…"
      ]
     },
     "metadata": {},
     "output_type": "display_data"
    },
    {
     "data": {
      "application/vnd.jupyter.widget-view+json": {
       "model_id": "",
       "version_major": 2,
       "version_minor": 0
      },
      "text/plain": [
       "Validation: |                                                                                    | 0/? [00:00<…"
      ]
     },
     "metadata": {},
     "output_type": "display_data"
    },
    {
     "data": {
      "application/vnd.jupyter.widget-view+json": {
       "model_id": "",
       "version_major": 2,
       "version_minor": 0
      },
      "text/plain": [
       "Validation: |                                                                                    | 0/? [00:00<…"
      ]
     },
     "metadata": {},
     "output_type": "display_data"
    },
    {
     "data": {
      "application/vnd.jupyter.widget-view+json": {
       "model_id": "",
       "version_major": 2,
       "version_minor": 0
      },
      "text/plain": [
       "Validation: |                                                                                    | 0/? [00:00<…"
      ]
     },
     "metadata": {},
     "output_type": "display_data"
    },
    {
     "data": {
      "application/vnd.jupyter.widget-view+json": {
       "model_id": "",
       "version_major": 2,
       "version_minor": 0
      },
      "text/plain": [
       "Validation: |                                                                                    | 0/? [00:00<…"
      ]
     },
     "metadata": {},
     "output_type": "display_data"
    },
    {
     "data": {
      "application/vnd.jupyter.widget-view+json": {
       "model_id": "",
       "version_major": 2,
       "version_minor": 0
      },
      "text/plain": [
       "Validation: |                                                                                    | 0/? [00:00<…"
      ]
     },
     "metadata": {},
     "output_type": "display_data"
    },
    {
     "data": {
      "application/vnd.jupyter.widget-view+json": {
       "model_id": "",
       "version_major": 2,
       "version_minor": 0
      },
      "text/plain": [
       "Validation: |                                                                                    | 0/? [00:00<…"
      ]
     },
     "metadata": {},
     "output_type": "display_data"
    },
    {
     "data": {
      "application/vnd.jupyter.widget-view+json": {
       "model_id": "",
       "version_major": 2,
       "version_minor": 0
      },
      "text/plain": [
       "Validation: |                                                                                    | 0/? [00:00<…"
      ]
     },
     "metadata": {},
     "output_type": "display_data"
    },
    {
     "name": "stderr",
     "output_type": "stream",
     "text": [
      "`Trainer.fit` stopped: `max_epochs=30` reached.\n"
     ]
    }
   ],
   "source": [
    "def_trainer = Trainer(deterministic=True, max_epochs=30, logger=def_logger, callbacks=[ErrorTracker()])\n",
    "def_trainer.fit(def_module, datamodule=def_dm)"
   ]
  },
  {
   "cell_type": "code",
   "execution_count": 48,
   "id": "5d85d56c-c98a-4f4f-b806-da6655d081d7",
   "metadata": {},
   "outputs": [],
   "source": [
    "def summary_plot(results,\n",
    "                 ax,\n",
    "                 col='loss',\n",
    "                 valid_legend='Validation',\n",
    "                 training_legend='Training',\n",
    "                 ylabel='Loss',\n",
    "                 fontsize=20):\n",
    "    for (column,\n",
    "         color,\n",
    "         label) in zip([f'train_{col}_epoch',\n",
    "                        f'valid_{col}'],\n",
    "                       ['black',\n",
    "                        'red'],\n",
    "                       [training_legend,\n",
    "                        valid_legend]):\n",
    "        results.plot(x='epoch',\n",
    "                     y=column,\n",
    "                     label=label,\n",
    "                     marker='o',\n",
    "                     color=color,\n",
    "                     ax=ax)\n",
    "    ax.set_xlabel('Epoch')\n",
    "    ax.set_ylabel(ylabel)\n",
    "    return ax"
   ]
  },
  {
   "cell_type": "code",
   "execution_count": 50,
   "id": "2c9960a2-f260-4c5d-86f5-96100457b943",
   "metadata": {},
   "outputs": [
    {
     "data": {
      "text/plain": [
       "[<matplotlib.axis.XTick at 0x2319c244790>,\n",
       " <matplotlib.axis.XTick at 0x2319c247ad0>,\n",
       " <matplotlib.axis.XTick at 0x2319c27c5d0>,\n",
       " <matplotlib.axis.XTick at 0x2319c27e3d0>,\n",
       " <matplotlib.axis.XTick at 0x2319c27dbd0>,\n",
       " <matplotlib.axis.XTick at 0x2319c1fc210>,\n",
       " <matplotlib.axis.XTick at 0x2319b70b4d0>]"
      ]
     },
     "execution_count": 50,
     "metadata": {},
     "output_type": "execute_result"
    },
    {
     "data": {
      "image/png": "[encoded data removed]",
      "text/plain": [
       "<Figure size 600x600 with 1 Axes>"
      ]
     },
     "metadata": {},
     "output_type": "display_data"
    }
   ],
   "source": [
    "def_results = pd.read_csv(def_logger.experiment.metrics_file_path)\n",
    "fig, ax = subplots(1, 1, figsize=(6,6))\n",
    "summary_plot(def_results, ax, col='accuracy', ylabel='Accuracy')\n",
    "ax.set_ylim([0.5, 1])\n",
    "ax.set_ylabel('Accuracy')\n",
    "ax.set_xticks(np.linspace(0, 30, 7).astype(int))"
   ]
  },
  {
   "cell_type": "code",
   "execution_count": 51,
   "id": "d94e2d1c-6da7-4f6e-989c-5f14cca4412c",
   "metadata": {},
   "outputs": [
    {
     "data": {
      "application/vnd.jupyter.widget-view+json": {
       "model_id": "5e501fcef3374f52bbeec10c42896d85",
       "version_major": 2,
       "version_minor": 0
      },
      "text/plain": [
       "Testing: |                                                                                       | 0/? [00:00<…"
      ]
     },
     "metadata": {},
     "output_type": "display_data"
    },
    {
     "name": "stdout",
     "output_type": "stream",
     "text": [
      "────────────────────────────────────────────────────────────────────────────────────────────────────────────────────────\n",
      "       Test metric             DataLoader 0\n",
      "────────────────────────────────────────────────────────────────────────────────────────────────────────────────────────\n",
      "      test_accuracy         0.9616000056266785\n",
      "        test_loss            751.1084594726562\n",
      "────────────────────────────────────────────────────────────────────────────────────────────────────────────────────────\n"
     ]
    },
    {
     "data": {
      "text/plain": [
       "[{'test_loss': 751.1084594726562, 'test_accuracy': 0.9616000056266785}]"
      ]
     },
     "execution_count": 51,
     "metadata": {},
     "output_type": "execute_result"
    }
   ],
   "source": [
    "def_trainer.test(def_module, datamodule=def_dm)"
   ]
  },
  {
   "cell_type": "markdown",
   "id": "5707fff8-9382-418a-857b-117b0da72c75",
   "metadata": {},
   "source": [
    "**96% accuracy** on test data using single layer neural network"
   ]
  },
  {
   "cell_type": "markdown",
   "id": "a0e48411-ec04-47ce-a6b3-2c367135e440",
   "metadata": {},
   "source": [
    "## Comparison with Logistic Regression"
   ]
  },
  {
   "cell_type": "markdown",
   "id": "bdda2aa5-8362-45cc-bbd8-2aeecd3551c5",
   "metadata": {},
   "source": [
    "### Fitting Logistic Regression"
   ]
  },
  {
   "cell_type": "code",
   "execution_count": 60,
   "id": "b3a18ba3-35e1-4d3e-848a-ecfb7a0c305c",
   "metadata": {},
   "outputs": [],
   "source": [
    "scaler = StandardScaler()\n",
    "model = MS(Default.columns.drop('default'), intercept=False)\n",
    "d = model.fit_transform(Default)\n",
    "x = np.asarray(d)\n",
    "y = Default['default'].values"
   ]
  },
  {
   "cell_type": "code",
   "execution_count": 62,
   "id": "e8545c45-0758-403a-897f-80228e7ecdd7",
   "metadata": {},
   "outputs": [],
   "source": [
    "x_train, x_test, y_train, y_test = train_test_split(x, y, test_size=0.25, random_state=0)"
   ]
  },
  {
   "cell_type": "code",
   "execution_count": 63,
   "id": "2e722783-f4e5-4c1a-a461-0e6a0e9f699c",
   "metadata": {},
   "outputs": [
    {
     "data": {
      "text/html": [
       "<div>\n",
       "<style scoped>\n",
       "    .dataframe tbody tr th:only-of-type {\n",
       "        vertical-align: middle;\n",
       "    }\n",
       "\n",
       "    .dataframe tbody tr th {\n",
       "        vertical-align: top;\n",
       "    }\n",
       "\n",
       "    .dataframe thead th {\n",
       "        text-align: right;\n",
       "    }\n",
       "</style>\n",
       "<table border=\"1\" class=\"dataframe\">\n",
       "  <thead>\n",
       "    <tr style=\"text-align: right;\">\n",
       "      <th>Truth</th>\n",
       "      <th>No</th>\n",
       "      <th>Yes</th>\n",
       "    </tr>\n",
       "    <tr>\n",
       "      <th>Predicted</th>\n",
       "      <th></th>\n",
       "      <th></th>\n",
       "    </tr>\n",
       "  </thead>\n",
       "  <tbody>\n",
       "    <tr>\n",
       "      <th>No</th>\n",
       "      <td>2397</td>\n",
       "      <td>65</td>\n",
       "    </tr>\n",
       "    <tr>\n",
       "      <th>Yes</th>\n",
       "      <td>7</td>\n",
       "      <td>31</td>\n",
       "    </tr>\n",
       "  </tbody>\n",
       "</table>\n",
       "</div>"
      ],
      "text/plain": [
       "Truth        No  Yes\n",
       "Predicted           \n",
       "No         2397   65\n",
       "Yes           7   31"
      ]
     },
     "execution_count": 63,
     "metadata": {},
     "output_type": "execute_result"
    }
   ],
   "source": [
    "logit = LogisticRegression(random_state=0)\n",
    "logit.fit(x_train, y_train)\n",
    "pred = logit.predict(x_test)\n",
    "confusion_table(pred, y_test)"
   ]
  },
  {
   "cell_type": "code",
   "execution_count": 64,
   "id": "2e4680e9-bd1e-4333-aa3c-95590c52339a",
   "metadata": {},
   "outputs": [
    {
     "data": {
      "text/plain": [
       "0.9712"
      ]
     },
     "execution_count": 64,
     "metadata": {},
     "output_type": "execute_result"
    }
   ],
   "source": [
    "np.mean(pred == y_test)"
   ]
  },
  {
   "cell_type": "markdown",
   "id": "f9c4a6f4-dbd5-4f13-bfe2-a6b00cea9919",
   "metadata": {},
   "source": [
    "Logistic regression actually performs better, with **97% accuracy**"
   ]
  }
 ],
 "metadata": {
  "kernelspec": {
   "display_name": "Python 3 (ipykernel)",
   "language": "python",
   "name": "python3"
  },
  "language_info": {
   "codemirror_mode": {
    "name": "ipython",
    "version": 3
   },
   "file_extension": ".py",
   "mimetype": "text/x-python",
   "name": "python",
   "nbconvert_exporter": "python",
   "pygments_lexer": "ipython3",
   "version": "3.11.9"
  }
 },
 "nbformat": 4,
 "nbformat_minor": 5
}
